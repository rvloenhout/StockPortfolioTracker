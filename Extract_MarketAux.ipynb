{
 "cells": [
  {
   "cell_type": "code",
   "execution_count": 1,
   "metadata": {},
   "outputs": [],
   "source": [
    "import requests\n",
    "\n",
    "API_TOKEN = \"<TOKEN>\"\n",
    "BASE_URL = \"https://api.marketaux.com/v1/news/all\"\n",
    "PARAMS = {\n",
    "    'symbols': 'KPN.AS',\n",
    "    'filter_entities': 'true',\n",
    "    'language': 'en',\n",
    "    'api_token': API_TOKEN # Replace 'TOKEN' with your actual API token\n",
    "}\n",
    "\n",
    "\n",
    "#?symbols=KPN.AS&filter_entities=true&language=en,nl&api_token=API_TOKEN"
   ]
  },
  {
   "cell_type": "code",
   "execution_count": 2,
   "metadata": {},
   "outputs": [
    {
     "name": "stdout",
     "output_type": "stream",
     "text": [
      "{'meta': {'found': 85, 'returned': 3, 'limit': 3, 'page': 1}, 'data': [{'uuid': 'b1a5b817-3f2d-4687-b7fd-17452da6d9ed', 'title': 'KPN announces results of its Tender Offer', 'description': 'NOT FOR DISTRIBUTION TO ANY U.S. PERSON OR ANY PERSON LOCATED OR RESIDENT IN THE UNITED STATES OF AMERICA OR IN ANY JURISDICTION WHERE IT IS UNLAWFUL TO DISTRIBUTE THIS ANNOUNCEMENT    Introduction   ...', 'keywords': 'Markets', 'snippet': 'NOT FOR DISTRIBUTION TO ANY U.S. PERSON OR ANY PERSON LOCATED OR RESIDENT IN THE UNITED STATES OF AMERICA OR IN ANY JURISDICTION WHERE IT IS UNLAWFUL TO DISTRIB...', 'url': 'https://www.marketscreener.com/quote/stock/ROYAL-KPN-N-V-6287/news/KPN-announces-results-of-its-Tender-Offer-46998265/', 'image_url': 'https://www.marketscreener.com/images/twitter_MS_fdblanc.png', 'language': 'en', 'published_at': '2024-06-19T06:00:09.000000Z', 'source': 'marketscreener.com', 'relevance_score': None, 'entities': [{'symbol': 'KPN.AS', 'name': 'Koninklijke KPN N.V.', 'exchange': None, 'exchange_long': None, 'country': 'nl', 'type': 'equity', 'industry': 'Communication Services', 'match_score': 49.943775, 'sentiment_score': 0.5473, 'highlights': [{'highlight': 'PERSON OR ANY PERSON LOCATED OR RESIDENT IN THE UNITED STATES OF AMERICA OR IN ANY JURISDICTION WHERE IT IS UNLAWFUL TO DISTRIBUTE THIS ANNOUNCEMENT\\n\\n\\n\\nIntroduction\\n\\nOn 11 June 2024, <em>Koninklijke</em> <em>KPN</em> <em>N.V</em>.', 'sentiment': 0.5473, 'highlighted_in': 'main_text'}]}], 'similar': []}, {'uuid': '17c295b2-13f7-45e8-93c5-f81c2a7c152f', 'title': 'KPN successfully issues € 500m Green Hybrid Bond', 'description': 'NOT FOR DISTRIBUTION TO ANY U.S. PERSON OR ANY PERSON LOCATED OR RESIDENT IN THE UNITED STATES OF AMERICA OR IN ANY JURISDICTION WHERE IT IS UNLAWFUL TO...', 'keywords': 'Amsterdam Stock Exchange:KPN, Koninklijke KPN N.V.', 'snippet': 'NOT FOR DISTRIBUTION TO ANY U.S. PERSON OR ANY PERSON LOCATED OR RESIDENT IN THE UNITED STATES OF AMERICA OR IN ANY JURISDICTION WHERE IT IS UNLAWFUL TO DISTRIB...', 'url': 'https://www.globenewswire.com/news-release/2024/06/11/2897049/0/en/KPN-successfully-issues-500m-Green-Hybrid-Bond.html', 'image_url': 'https://ml-eu.globenewswire.com/Resource/Download/b12ea3b9-28a8-4b07-b7d7-11c57ac118a6', 'language': 'en', 'published_at': '2024-06-11T15:45:00.000000Z', 'source': 'globenewswire.com', 'relevance_score': None, 'entities': [{'symbol': 'KPN.AS', 'name': 'Koninklijke KPN N.V.', 'exchange': None, 'exchange_long': None, 'country': 'nl', 'type': 'equity', 'industry': 'Communication Services', 'match_score': 44.700638, 'sentiment_score': 0.5473, 'highlights': [{'highlight': 'PERSON OR ANY PERSON LOCATED OR RESIDENT IN THE UNITED STATES OF AMERICA OR IN ANY JURISDICTION WHERE IT IS UNLAWFUL TO DISTRIBUTE THIS ANNOUNCEMENT\\n\\n\\n\\nToday, <em>Koninklijke</em> <em>KPN</em> <em>N.V</em>.', 'sentiment': 0.5473, 'highlighted_in': 'main_text'}]}], 'similar': [{'uuid': '189a5612-7159-4643-9228-82d772115415', 'title': 'KPN announces € 500m Green Hybrid Bond and Debt Tender Offer', 'description': 'Today, Koninklijke KPN N.V. (“KPN”) announces its intention to issue a Green € 500m perpetual non-call 5.25 year subordinated bond to finance projects that...', 'keywords': 'Amsterdam Stock Exchange:KPN, Koninklijke KPN N.V.', 'snippet': 'Today, Koninklijke KPN N.V. (“KPN”) announces its intention to issue a Green € 500m perpetual non-call 5.25 year subordinated bond to finance projects tha...', 'url': 'https://www.globenewswire.com/news-release/2024/06/11/2896503/0/en/KPN-announces-500m-Green-Hybrid-Bond-and-Debt-Tender-Offer.html', 'image_url': 'https://ml-eu.globenewswire.com/Resource/Download/b12ea3b9-28a8-4b07-b7d7-11c57ac118a6', 'language': 'en', 'published_at': '2024-06-11T07:25:00.000000Z', 'source': 'globenewswire.com', 'relevance_score': None, 'entities': [{'symbol': 'KKPNY', 'name': 'Koninklijke KPN N.V.', 'exchange': None, 'exchange_long': None, 'country': 'us', 'type': 'equity', 'industry': 'Communication Services', 'match_score': 56.58408, 'sentiment_score': 0.743, 'highlights': [{'highlight': 'Today, <em>Koninklijke</em> <em>KPN</em> <em>N.V</em>. (“KPN”) announces its intention to issue a Green € 500m perpetual non-call 5.25 year subordinated bond to finance projects that support KPN’s sustainability ambitions and have a positive environmental impact (the “Green Hybrid Bond”).', 'sentiment': 0.743, 'highlighted_in': 'main_text'}]}, {'symbol': 'KKPNF', 'name': 'Koninklijke KPN N.V.', 'exchange': None, 'exchange_long': None, 'country': 'us', 'type': 'equity', 'industry': 'Communication Services', 'match_score': 56.58408, 'sentiment_score': 0.743, 'highlights': [{'highlight': 'Today, <em>Koninklijke</em> <em>KPN</em> <em>N.V</em>. (“KPN”) announces its intention to issue a Green € 500m perpetual non-call 5.25 year subordinated bond to finance projects that support KPN’s sustainability ambitions and have a positive environmental impact (the “Green Hybrid Bond”).', 'sentiment': 0.743, 'highlighted_in': 'main_text'}]}, {'symbol': 'KPNN.MX', 'name': 'Koninklijke KPN N.V.', 'exchange': None, 'exchange_long': None, 'country': 'mx', 'type': 'equity', 'industry': 'Communication Services', 'match_score': 56.58315, 'sentiment_score': 0.743, 'highlights': [{'highlight': 'Today, <em>Koninklijke</em> <em>KPN</em> <em>N.V</em>. (“KPN”) announces its intention to issue a Green € 500m perpetual non-call 5.25 year subordinated bond to finance projects that support KPN’s sustainability ambitions and have a positive environmental impact (the “Green Hybrid Bond”).', 'sentiment': 0.743, 'highlighted_in': 'main_text'}]}, {'symbol': 'KPN.AS', 'name': 'Koninklijke KPN N.V.', 'exchange': None, 'exchange_long': None, 'country': 'nl', 'type': 'equity', 'industry': 'Communication Services', 'match_score': 56.58759, 'sentiment_score': 0.743, 'highlights': [{'highlight': 'Today, <em>Koninklijke</em> <em>KPN</em> <em>N.V</em>. (“KPN”) announces its intention to issue a Green € 500m perpetual non-call 5.25 year subordinated bond to finance projects that support KPN’s sustainability ambitions and have a positive environmental impact (the “Green Hybrid Bond”).', 'sentiment': 0.743, 'highlighted_in': 'main_text'}]}]}]}, {'uuid': 'b2c59fa0-450d-46d5-aa46-ee29f8297853', 'title': 'Koninklijke KPN N.V. (KKPNF) Q1 2024 Earnings Call Transcript', 'description': 'Koninklijke KPN N.V. (OTCPK:KKPNF) Q1 2024 Results Conference Call April 24, 2024 7:00 AM ETCompany ParticipantsReinout van Ierschot - IRJoost Farwerck -...', 'keywords': '', 'snippet': 'Koninklijke KPN N.V. (OTCPK:KKPNF) Q1 2024 Results Conference Call April 24, 2024 7:00 AM ET\\n\\nCompany Participants\\n\\nReinout van Ierschot - IR\\n\\nJoost Farwerck - ...', 'url': 'https://seekingalpha.com/article/4686423-koninklijke-kpn-n-v-kkpnf-q1-2024-earnings-call-transcript', 'image_url': 'https://static.seekingalpha.com/assets/og_image_1200-29b2bfe1a595477db6826bd2126c63ac2091efb7ec76347a8e7f81ba17e3de6c.png', 'language': 'en', 'published_at': '2024-04-25T21:43:09.000000Z', 'source': 'seekingalpha.com', 'relevance_score': None, 'entities': [{'symbol': 'KPN.AS', 'name': 'Koninklijke KPN N.V.', 'exchange': None, 'exchange_long': None, 'country': 'nl', 'type': 'equity', 'industry': 'Communication Services', 'match_score': 192.68344, 'sentiment_score': 0, 'highlights': [{'highlight': '<em>Koninklijke</em> <em>KPN</em> <em>N.V</em>.', 'sentiment': 0, 'highlighted_in': 'main_text'}, {'highlight': '<em>Koninklijke</em> <em>KPN</em> <em>N.V</em>. (KKPNF) Q1 2024 Earnings Call Transcript', 'sentiment': 0, 'highlighted_in': 'title'}]}], 'similar': []}]}\n"
     ]
    }
   ],
   "source": [
    "# Make the GET request\n",
    "response = requests.get(BASE_URL, params=PARAMS)\n",
    "\n",
    "# Check the status code and handle the response\n",
    "if response.status_code == 200:\n",
    "    data = response.json()\n",
    "    print(data)\n",
    "else:\n",
    "    print(f\"Error: {response.status_code}\")\n",
    "    print(response.text)"
   ]
  }
 ],
 "metadata": {
  "kernelspec": {
   "display_name": "Python 3",
   "language": "python",
   "name": "python3"
  },
  "language_info": {
   "codemirror_mode": {
    "name": "ipython",
    "version": 3
   },
   "file_extension": ".py",
   "mimetype": "text/x-python",
   "name": "python",
   "nbconvert_exporter": "python",
   "pygments_lexer": "ipython3",
   "version": "3.10.11"
  }
 },
 "nbformat": 4,
 "nbformat_minor": 2
}
