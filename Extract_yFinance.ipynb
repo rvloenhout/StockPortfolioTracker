{
 "cells": [
  {
   "cell_type": "code",
   "execution_count": 95,
   "metadata": {},
   "outputs": [],
   "source": [
    "#--------------------#\n",
    "# Importing Packages #\n",
    "#--------------------#\n",
    "import yfinance as yf\n",
    "import pandas as pd\n",
    "import warnings\n",
    "from datetime import datetime\n",
    "from datetime import date, timedelta\n",
    "\n",
    "\n",
    "#-----------#\n",
    "# Constants #\n",
    "#-----------#\n",
    "#STOCKS = yf.Tickers(\"KPN.AS SHELL.AS AD.AS PHIA.AS INGA.AS HEIJM.AS\")\n",
    "#ETFS = yf.Tickers(\"IWDA.AS IDVY.AS HDR0.DE\")\n",
    "STOCKS = (\"KPN.AS\", \"SHELL.AS\", \"AD.AS\", \"PHIA.AS\", \"INGA.AS\", \"HEIJM.AS\")\n",
    "ETFS = (\"IWDA.AS\", \"IDVY.AS\", \"HDR0.DE\")\n",
    "COMPANY_INFO_COLUMNS = (\"longName\", \"country\", \"industry\", \"sector\", \"fullTimeEmployees\", \"longBusinessSummary\")\n",
    "STOCK_FUNDAMENTALS_COLUMNS = (\"profitMargins\", \"operatingMargins\", \"returnOnAssets\", \"returnOnEquity\", \"currentRatio\", \"quickRatio\", \"debtToEquity\", \"trailingPE\", \"trailingEps\", \"priceToBook\", \"priceToSalesTrailing12Months\")\n",
    "STOCK_RECOMMENDATIONS_COLUMNS = (\"recommendationKey\", \"currentPrice\", \"targetMedianPrice\", \"targetMeanPrice\", \"targetLowPrice\", \"targetHighPrice\")\n",
    "PRICE_HISTORY_COLUMNS = (\"Symbol\", \"Open\", \"High\", \"Low\", \"Close\", \"Volume\")\n",
    "\n",
    "HISTORY_START_DATE = date.today() + timedelta(days=-1)\n",
    "HISTORY_END_DATE = date.today()"
   ]
  },
  {
   "cell_type": "code",
   "execution_count": 97,
   "metadata": {},
   "outputs": [],
   "source": [
    "def get_company_info(required_stocks, required_columns):\n",
    "    Company_Info_df = pd.DataFrame(columns=required_columns)\n",
    "    for stock in required_stocks:\n",
    "        temp_list = []\n",
    "        company_info = yf.Ticker(stock).info\n",
    "        for column in required_columns:\n",
    "            if column in company_info:\n",
    "                temp_list.append(company_info[column])\n",
    "            else:\n",
    "                temp_list.append(None)\n",
    "                warnings.warn(f\"Column '{column}' not found for stock '{stock}'\")\n",
    "        index_label = f\"{stock} {datetime.now().replace(hour=0, minute=0, second=0, microsecond=0).strftime('%Y-%m-%d %H:%M:%S')}\"\n",
    "        Company_Info_df.loc[index_label] = temp_list\n",
    "\n",
    "    return Company_Info_df\n",
    "\n",
    "#get_company_info(STOCKS, COMPANY_INFO_COLUMNS)\n",
    "#get_company_info(STOCKS, STOCK_FUNDAMENTALS_COLUMNS)\n",
    "#get_company_info(STOCKS, STOCK_RECOMMENDATIONS_COLUMNS)"
   ]
  },
  {
   "cell_type": "code",
   "execution_count": 98,
   "metadata": {},
   "outputs": [],
   "source": [
    "def get_price_history(required_stocks, required_columns, interval=\"1h\", period=\"2y\"): #start=HISTORY_START_DATE, end=HISTORY_END_DATE\n",
    "    Price_History_df = pd.DataFrame(columns=required_columns)\n",
    "    for stock in required_stocks:\n",
    "        price_history = yf.Ticker(stock).history(period=period, interval=interval, actions=False)\n",
    "        price_history['Symbol'] = stock\n",
    "        Price_History_df = pd.concat([Price_History_df, price_history])\n",
    "\n",
    "    return Price_History_df\n",
    "\n",
    "#get_price_history(STOCKS, PRICE_HISTORY_COLUMNS)\n",
    "#get_price_history(ETFS, PRICE_HISTORY_COLUMNS)"
   ]
  }
 ],
 "metadata": {
  "kernelspec": {
   "display_name": "Python 3",
   "language": "python",
   "name": "python3"
  },
  "language_info": {
   "codemirror_mode": {
    "name": "ipython",
    "version": 3
   },
   "file_extension": ".py",
   "mimetype": "text/x-python",
   "name": "python",
   "nbconvert_exporter": "python",
   "pygments_lexer": "ipython3",
   "version": "3.10.11"
  }
 },
 "nbformat": 4,
 "nbformat_minor": 2
}
