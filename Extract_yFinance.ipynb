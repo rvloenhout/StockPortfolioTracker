{
 "cells": [
  {
   "cell_type": "code",
   "execution_count": null,
   "metadata": {},
   "outputs": [],
   "source": [
    "#--------------------#\n",
    "# Importing Packages #\n",
    "#--------------------#\n",
    "import yfinance as yf\n",
    "import pandas as pd\n",
    "import warnings\n",
    "from datetime import datetime\n",
    "from datetime import date, timedelta\n",
    "\n",
    "#---------------------#\n",
    "# Importing Variables #\n",
    "#---------------------#\n",
    "from variables.variables import DB_CONFIG, STOCKS, ETFS"
   ]
  },
  {
   "cell_type": "code",
   "execution_count": null,
   "metadata": {},
   "outputs": [],
   "source": [
    "#---------------------#\n",
    "# Importing Constants #\n",
    "#---------------------#\n",
    "from constants import COMPANY_INFO_COLUMNS, STOCK_FUNDAMENTALS_COLUMNS, STOCK_RECOMMENDATIONS_COLUMNS, PRICE_HISTORY_COLUMNS\n",
    "\n",
    "HISTORY_START_DATE = date.today() + timedelta(days=-1)\n",
    "HISTORY_END_DATE = date.today()"
   ]
  },
  {
   "cell_type": "code",
   "execution_count": 22,
   "metadata": {},
   "outputs": [
    {
     "data": {
      "text/plain": [
       "'-'"
      ]
     },
     "execution_count": 22,
     "metadata": {},
     "output_type": "execute_result"
    }
   ],
   "source": [
    "stock = yf.Ticker(\"KPN.AS\")\n",
    "#stock.calendar\n",
    "stock.isin"
   ]
  },
  {
   "cell_type": "code",
   "execution_count": 4,
   "metadata": {},
   "outputs": [],
   "source": [
    "def get_company_info(required_stocks, required_columns_dict):\n",
    "    # Extract column names from the dictionary keys\n",
    "    column_names = list(required_columns_dict.keys())\n",
    "    Company_Info_df = pd.DataFrame(columns=column_names)\n",
    "\n",
    "    for stock in required_stocks:\n",
    "        temp_list = []\n",
    "        company_info = yf.Ticker(stock).info\n",
    "\n",
    "        for column in column_names:  # Iterate over the extracted column names\n",
    "            if column in company_info:\n",
    "                temp_list.append(company_info[column])\n",
    "            else:\n",
    "                temp_list.append(None)\n",
    "                warnings.warn(f\"Column '{column}' not found for stock '{stock}'\")\n",
    "\n",
    "        index_label = f\"{stock} {datetime.now().replace(hour=0, minute=0, second=0, microsecond=0).strftime('%Y-%m-%d %H:%M:%S')}\"\n",
    "        Company_Info_df.loc[index_label] = temp_list\n",
    "\n",
    "    return Company_Info_df\n",
    "\n",
    "#get_company_info(STOCKS, COMPANY_INFO_COLUMNS)\n",
    "#get_company_info(STOCKS, STOCK_FUNDAMENTALS_COLUMNS)\n",
    "#get_company_info(STOCKS, STOCK_RECOMMENDATIONS_COLUMNS)"
   ]
  },
  {
   "cell_type": "code",
   "execution_count": 5,
   "metadata": {},
   "outputs": [],
   "source": [
    "import mysql.connector\n",
    "\n",
    "def store_data_in_mysql(df, table_name, column_definitions, db_config):\n",
    "    # Connect to MySQL\n",
    "    conn = mysql.connector.connect(**db_config)\n",
    "    cursor = conn.cursor()\n",
    "\n",
    "    # Create table query\n",
    "    columns_with_types = \", \".join([f\"{col} {dtype}\" for col, dtype in column_definitions.items()])\n",
    "    create_table_query = f\"CREATE TABLE IF NOT EXISTS {table_name} ({columns_with_types})\"\n",
    "    cursor.execute(create_table_query)\n",
    "\n",
    "    # Insert data into the table\n",
    "    placeholders = \", \".join([\"%s\"] * len(column_definitions))  # Placeholder for values\n",
    "    insert_query = f\"INSERT INTO {table_name} ({', '.join(column_definitions.keys())}) VALUES ({placeholders})\"\n",
    "\n",
    "    for _, row in df.iterrows():\n",
    "        cursor.execute(insert_query, tuple(row))\n",
    "\n",
    "    # Commit changes and close the connection\n",
    "    conn.commit()\n",
    "    cursor.close()\n",
    "    conn.close()\n",
    "\n",
    "# Example usage\n",
    "if __name__ == \"__main__\":\n",
    "    \n",
    "    TABLE_NAME = \"company_info\"\n",
    "\n",
    "    # Get the company information\n",
    "    df = get_company_info(STOCKS, COMPANY_INFO_COLUMNS)\n",
    "\n",
    "    # Store the data in the MySQL table\n",
    "    store_data_in_mysql(df, TABLE_NAME, COMPANY_INFO_COLUMNS, DB_CONFIG)"
   ]
  },
  {
   "cell_type": "code",
   "execution_count": null,
   "metadata": {},
   "outputs": [
    {
     "name": "stderr",
     "output_type": "stream",
     "text": [
      "KPN.AS: No price data found, symbol may be delisted (1h 2024-12-08 -> 2024-12-09)\n",
      "SHELL.AS: No price data found, symbol may be delisted (1h 2024-12-08 -> 2024-12-09)\n"
     ]
    },
    {
     "name": "stderr",
     "output_type": "stream",
     "text": [
      "AD.AS: No price data found, symbol may be delisted (1h 2024-12-08 -> 2024-12-09)\n",
      "PHIA.AS: No price data found, symbol may be delisted (1h 2024-12-08 -> 2024-12-09)\n",
      "INGA.AS: No price data found, symbol may be delisted (1h 2024-12-08 -> 2024-12-09)\n",
      "HEIJM.AS: No price data found, symbol may be delisted (1h 2024-12-08 -> 2024-12-09)\n"
     ]
    },
    {
     "data": {
      "text/html": [
       "<div>\n",
       "<style scoped>\n",
       "    .dataframe tbody tr th:only-of-type {\n",
       "        vertical-align: middle;\n",
       "    }\n",
       "\n",
       "    .dataframe tbody tr th {\n",
       "        vertical-align: top;\n",
       "    }\n",
       "\n",
       "    .dataframe thead th {\n",
       "        text-align: right;\n",
       "    }\n",
       "</style>\n",
       "<table border=\"1\" class=\"dataframe\">\n",
       "  <thead>\n",
       "    <tr style=\"text-align: right;\">\n",
       "      <th></th>\n",
       "      <th>Symbol</th>\n",
       "      <th>Open</th>\n",
       "      <th>High</th>\n",
       "      <th>Low</th>\n",
       "      <th>Close</th>\n",
       "      <th>Volume</th>\n",
       "      <th>Adj Close</th>\n",
       "    </tr>\n",
       "  </thead>\n",
       "  <tbody>\n",
       "  </tbody>\n",
       "</table>\n",
       "</div>"
      ],
      "text/plain": [
       "Empty DataFrame\n",
       "Columns: [Symbol, Open, High, Low, Close, Volume, Adj Close]\n",
       "Index: []"
      ]
     },
     "execution_count": 29,
     "metadata": {},
     "output_type": "execute_result"
    }
   ],
   "source": [
    "def get_price_history(startDate, endDate, required_stocks, required_columns, interval=\"1h\"): #period=\"2y\"\n",
    "    Price_History_df = pd.DataFrame(columns=required_columns)\n",
    "    for stock in required_stocks:\n",
    "        price_history = yf.Ticker(stock).history(start=startDate.strftime('%Y-%m-%d'), end=endDate.strftime('%Y-%m-%d'), interval=interval, actions=False)\n",
    "        price_history['Symbol'] = stock\n",
    "        Price_History_df = pd.concat([Price_History_df, price_history])\n",
    "\n",
    "    return Price_History_df\n",
    "\n",
    "get_price_history(HISTORY_START_DATE, HISTORY_END_DATE, STOCKS, PRICE_HISTORY_COLUMNS)\n",
    "#get_price_history(ETFS, PRICE_HISTORY_COLUMNS)"
   ]
  }
 ],
 "metadata": {
  "kernelspec": {
   "display_name": "Python 3",
   "language": "python",
   "name": "python3"
  },
  "language_info": {
   "codemirror_mode": {
    "name": "ipython",
    "version": 3
   },
   "file_extension": ".py",
   "mimetype": "text/x-python",
   "name": "python",
   "nbconvert_exporter": "python",
   "pygments_lexer": "ipython3",
   "version": "3.10.11"
  }
 },
 "nbformat": 4,
 "nbformat_minor": 2
}
